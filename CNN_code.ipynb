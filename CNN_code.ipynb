{
 "cells": [
  {
   "cell_type": "code",
   "execution_count": 1,
   "metadata": {},
   "outputs": [
    {
     "name": "stderr",
     "output_type": "stream",
     "text": [
      "Using TensorFlow backend.\n",
      "C:\\Users\\Sravika\\anaconda3\\lib\\site-packages\\tensorflow\\python\\framework\\dtypes.py:516: FutureWarning: Passing (type, 1) or '1type' as a synonym of type is deprecated; in a future version of numpy, it will be understood as (type, (1,)) / '(1,)type'.\n",
      "  _np_qint8 = np.dtype([(\"qint8\", np.int8, 1)])\n",
      "C:\\Users\\Sravika\\anaconda3\\lib\\site-packages\\tensorflow\\python\\framework\\dtypes.py:517: FutureWarning: Passing (type, 1) or '1type' as a synonym of type is deprecated; in a future version of numpy, it will be understood as (type, (1,)) / '(1,)type'.\n",
      "  _np_quint8 = np.dtype([(\"quint8\", np.uint8, 1)])\n",
      "C:\\Users\\Sravika\\anaconda3\\lib\\site-packages\\tensorflow\\python\\framework\\dtypes.py:518: FutureWarning: Passing (type, 1) or '1type' as a synonym of type is deprecated; in a future version of numpy, it will be understood as (type, (1,)) / '(1,)type'.\n",
      "  _np_qint16 = np.dtype([(\"qint16\", np.int16, 1)])\n",
      "C:\\Users\\Sravika\\anaconda3\\lib\\site-packages\\tensorflow\\python\\framework\\dtypes.py:519: FutureWarning: Passing (type, 1) or '1type' as a synonym of type is deprecated; in a future version of numpy, it will be understood as (type, (1,)) / '(1,)type'.\n",
      "  _np_quint16 = np.dtype([(\"quint16\", np.uint16, 1)])\n",
      "C:\\Users\\Sravika\\anaconda3\\lib\\site-packages\\tensorflow\\python\\framework\\dtypes.py:520: FutureWarning: Passing (type, 1) or '1type' as a synonym of type is deprecated; in a future version of numpy, it will be understood as (type, (1,)) / '(1,)type'.\n",
      "  _np_qint32 = np.dtype([(\"qint32\", np.int32, 1)])\n",
      "C:\\Users\\Sravika\\anaconda3\\lib\\site-packages\\tensorflow\\python\\framework\\dtypes.py:525: FutureWarning: Passing (type, 1) or '1type' as a synonym of type is deprecated; in a future version of numpy, it will be understood as (type, (1,)) / '(1,)type'.\n",
      "  np_resource = np.dtype([(\"resource\", np.ubyte, 1)])\n",
      "C:\\Users\\Sravika\\anaconda3\\lib\\site-packages\\tensorboard\\compat\\tensorflow_stub\\dtypes.py:541: FutureWarning: Passing (type, 1) or '1type' as a synonym of type is deprecated; in a future version of numpy, it will be understood as (type, (1,)) / '(1,)type'.\n",
      "  _np_qint8 = np.dtype([(\"qint8\", np.int8, 1)])\n",
      "C:\\Users\\Sravika\\anaconda3\\lib\\site-packages\\tensorboard\\compat\\tensorflow_stub\\dtypes.py:542: FutureWarning: Passing (type, 1) or '1type' as a synonym of type is deprecated; in a future version of numpy, it will be understood as (type, (1,)) / '(1,)type'.\n",
      "  _np_quint8 = np.dtype([(\"quint8\", np.uint8, 1)])\n",
      "C:\\Users\\Sravika\\anaconda3\\lib\\site-packages\\tensorboard\\compat\\tensorflow_stub\\dtypes.py:543: FutureWarning: Passing (type, 1) or '1type' as a synonym of type is deprecated; in a future version of numpy, it will be understood as (type, (1,)) / '(1,)type'.\n",
      "  _np_qint16 = np.dtype([(\"qint16\", np.int16, 1)])\n",
      "C:\\Users\\Sravika\\anaconda3\\lib\\site-packages\\tensorboard\\compat\\tensorflow_stub\\dtypes.py:544: FutureWarning: Passing (type, 1) or '1type' as a synonym of type is deprecated; in a future version of numpy, it will be understood as (type, (1,)) / '(1,)type'.\n",
      "  _np_quint16 = np.dtype([(\"quint16\", np.uint16, 1)])\n",
      "C:\\Users\\Sravika\\anaconda3\\lib\\site-packages\\tensorboard\\compat\\tensorflow_stub\\dtypes.py:545: FutureWarning: Passing (type, 1) or '1type' as a synonym of type is deprecated; in a future version of numpy, it will be understood as (type, (1,)) / '(1,)type'.\n",
      "  _np_qint32 = np.dtype([(\"qint32\", np.int32, 1)])\n",
      "C:\\Users\\Sravika\\anaconda3\\lib\\site-packages\\tensorboard\\compat\\tensorflow_stub\\dtypes.py:550: FutureWarning: Passing (type, 1) or '1type' as a synonym of type is deprecated; in a future version of numpy, it will be understood as (type, (1,)) / '(1,)type'.\n",
      "  np_resource = np.dtype([(\"resource\", np.ubyte, 1)])\n"
     ]
    }
   ],
   "source": [
    "from keras.models import Sequential\n",
    "from keras.layers import Dense\n",
    "from keras.layers import Convolution2D\n",
    "from keras.layers import MaxPooling2D\n",
    "from keras.layers import Flatten"
   ]
  },
  {
   "cell_type": "code",
   "execution_count": 2,
   "metadata": {},
   "outputs": [],
   "source": [
    "from keras.preprocessing.image import ImageDataGenerator\n",
    "train_datagen = ImageDataGenerator(rescale = 1./255,shear_range = 0.2,zoom_range = 0.2,horizontal_flip = True)\n",
    "test_datagen = ImageDataGenerator(rescale = 1./255)"
   ]
  },
  {
   "cell_type": "code",
   "execution_count": 3,
   "metadata": {},
   "outputs": [
    {
     "name": "stdout",
     "output_type": "stream",
     "text": [
      "Found 980 images belonging to 2 classes.\n",
      "Found 420 images belonging to 2 classes.\n"
     ]
    }
   ],
   "source": [
    "x_train = train_datagen.flow_from_directory(r'E:\\project\\dataset\\trainset',target_size = (64,64),batch_size = 32 , class_mode = 'categorical')\n",
    "x_test = test_datagen.flow_from_directory(r'E:\\project\\dataset\\testset',target_size = (64,64),batch_size = 32 , class_mode = 'categorical')\n"
   ]
  },
  {
   "cell_type": "code",
   "execution_count": 4,
   "metadata": {},
   "outputs": [
    {
     "name": "stdout",
     "output_type": "stream",
     "text": [
      "{'domestic': 0, 'wild': 1}\n"
     ]
    }
   ],
   "source": [
    "print(x_train.class_indices)"
   ]
  },
  {
   "cell_type": "code",
   "execution_count": 5,
   "metadata": {},
   "outputs": [
    {
     "name": "stdout",
     "output_type": "stream",
     "text": [
      "WARNING:tensorflow:From C:\\Users\\Sravika\\anaconda3\\lib\\site-packages\\keras\\backend\\tensorflow_backend.py:74: The name tf.get_default_graph is deprecated. Please use tf.compat.v1.get_default_graph instead.\n",
      "\n"
     ]
    }
   ],
   "source": [
    "model = Sequential()"
   ]
  },
  {
   "cell_type": "code",
   "execution_count": 6,
   "metadata": {},
   "outputs": [
    {
     "name": "stdout",
     "output_type": "stream",
     "text": [
      "WARNING:tensorflow:From C:\\Users\\Sravika\\anaconda3\\lib\\site-packages\\keras\\backend\\tensorflow_backend.py:517: The name tf.placeholder is deprecated. Please use tf.compat.v1.placeholder instead.\n",
      "\n",
      "WARNING:tensorflow:From C:\\Users\\Sravika\\anaconda3\\lib\\site-packages\\keras\\backend\\tensorflow_backend.py:4138: The name tf.random_uniform is deprecated. Please use tf.random.uniform instead.\n",
      "\n"
     ]
    }
   ],
   "source": [
    "model.add(Convolution2D(32,(3,3), input_shape = (64,64,3),activation = \"relu\"))"
   ]
  },
  {
   "cell_type": "code",
   "execution_count": 7,
   "metadata": {},
   "outputs": [
    {
     "name": "stdout",
     "output_type": "stream",
     "text": [
      "WARNING:tensorflow:From C:\\Users\\Sravika\\anaconda3\\lib\\site-packages\\keras\\backend\\tensorflow_backend.py:3976: The name tf.nn.max_pool is deprecated. Please use tf.nn.max_pool2d instead.\n",
      "\n"
     ]
    }
   ],
   "source": [
    "model.add(MaxPooling2D(pool_size = (2,2)))"
   ]
  },
  {
   "cell_type": "code",
   "execution_count": 8,
   "metadata": {},
   "outputs": [],
   "source": [
    "model.add(Flatten())"
   ]
  },
  {
   "cell_type": "code",
   "execution_count": 9,
   "metadata": {},
   "outputs": [
    {
     "name": "stderr",
     "output_type": "stream",
     "text": [
      "C:\\Users\\Sravika\\anaconda3\\lib\\site-packages\\ipykernel_launcher.py:1: UserWarning: Update your `Dense` call to the Keras 2 API: `Dense(units=128, activation=\"relu\", kernel_initializer=\"random_uniform\")`\n",
      "  \"\"\"Entry point for launching an IPython kernel.\n"
     ]
    }
   ],
   "source": [
    "model.add(Dense(units = 128,init = \"random_uniform\",activation = \"relu\"))"
   ]
  },
  {
   "cell_type": "code",
   "execution_count": 10,
   "metadata": {},
   "outputs": [
    {
     "name": "stderr",
     "output_type": "stream",
     "text": [
      "C:\\Users\\Sravika\\anaconda3\\lib\\site-packages\\ipykernel_launcher.py:1: UserWarning: Update your `Dense` call to the Keras 2 API: `Dense(units=2, activation=\"softmax\", kernel_initializer=\"random_uniform\")`\n",
      "  \"\"\"Entry point for launching an IPython kernel.\n"
     ]
    }
   ],
   "source": [
    "model.add(Dense(units =2,init = \"random_uniform\",activation = \"softmax\"))"
   ]
  },
  {
   "cell_type": "code",
   "execution_count": 11,
   "metadata": {},
   "outputs": [
    {
     "name": "stdout",
     "output_type": "stream",
     "text": [
      "WARNING:tensorflow:From C:\\Users\\Sravika\\anaconda3\\lib\\site-packages\\keras\\optimizers.py:790: The name tf.train.Optimizer is deprecated. Please use tf.compat.v1.train.Optimizer instead.\n",
      "\n",
      "WARNING:tensorflow:From C:\\Users\\Sravika\\anaconda3\\lib\\site-packages\\keras\\backend\\tensorflow_backend.py:3295: The name tf.log is deprecated. Please use tf.math.log instead.\n",
      "\n"
     ]
    }
   ],
   "source": [
    "model.compile(loss = \"categorical_crossentropy\",optimizer = \"adam\",metrics = [\"accuracy\"])"
   ]
  },
  {
   "cell_type": "code",
   "execution_count": 44,
   "metadata": {
    "scrolled": false
   },
   "outputs": [
    {
     "name": "stdout",
     "output_type": "stream",
     "text": [
      "Epoch 1/25\n",
      "30/30 [==============================] - 19s 636ms/step - loss: 0.5000 - acc: 0.7498 - val_loss: 0.6839 - val_acc: 0.6649\n",
      "Epoch 2/25\n",
      "30/30 [==============================] - 16s 535ms/step - loss: 0.4694 - acc: 0.7677 - val_loss: 0.5501 - val_acc: 0.6959\n",
      "Epoch 3/25\n",
      "30/30 [==============================] - 19s 622ms/step - loss: 0.4165 - acc: 0.8085 - val_loss: 0.6200 - val_acc: 0.7113\n",
      "Epoch 4/25\n",
      "30/30 [==============================] - 17s 553ms/step - loss: 0.3782 - acc: 0.8267 - val_loss: 0.5946 - val_acc: 0.7448\n",
      "Epoch 5/25\n",
      "30/30 [==============================] - 18s 588ms/step - loss: 0.4073 - acc: 0.8044 - val_loss: 0.7229 - val_acc: 0.6753\n",
      "Epoch 6/25\n",
      "30/30 [==============================] - 19s 618ms/step - loss: 0.4006 - acc: 0.8268 - val_loss: 0.6191 - val_acc: 0.7188\n",
      "Epoch 7/25\n",
      "30/30 [==============================] - 18s 593ms/step - loss: 0.3544 - acc: 0.8400 - val_loss: 0.6265 - val_acc: 0.7191\n",
      "Epoch 8/25\n",
      "30/30 [==============================] - 17s 564ms/step - loss: 0.3502 - acc: 0.8502 - val_loss: 0.6882 - val_acc: 0.7139\n",
      "Epoch 9/25\n",
      "30/30 [==============================] - 16s 547ms/step - loss: 0.3255 - acc: 0.8452 - val_loss: 0.7959 - val_acc: 0.6753\n",
      "Epoch 10/25\n",
      "30/30 [==============================] - 17s 580ms/step - loss: 0.3094 - acc: 0.8742 - val_loss: 0.6234 - val_acc: 0.7062\n",
      "Epoch 11/25\n",
      "30/30 [==============================] - 18s 593ms/step - loss: 0.3191 - acc: 0.8658 - val_loss: 0.6539 - val_acc: 0.7371\n",
      "Epoch 12/25\n",
      "30/30 [==============================] - 16s 527ms/step - loss: 0.3047 - acc: 0.8632 - val_loss: 0.7132 - val_acc: 0.6933\n",
      "Epoch 13/25\n",
      "30/30 [==============================] - 18s 584ms/step - loss: 0.2979 - acc: 0.8719 - val_loss: 0.6577 - val_acc: 0.7294\n",
      "Epoch 14/25\n",
      "30/30 [==============================] - 18s 595ms/step - loss: 0.2766 - acc: 0.8800 - val_loss: 0.8142 - val_acc: 0.6778\n",
      "Epoch 15/25\n",
      "30/30 [==============================] - 18s 594ms/step - loss: 0.2745 - acc: 0.8821 - val_loss: 0.6353 - val_acc: 0.7603\n",
      "Epoch 16/25\n",
      "30/30 [==============================] - 17s 560ms/step - loss: 0.2481 - acc: 0.9044 - val_loss: 0.8829 - val_acc: 0.6933\n",
      "Epoch 17/25\n",
      "30/30 [==============================] - 19s 620ms/step - loss: 0.2451 - acc: 0.8946 - val_loss: 0.7748 - val_acc: 0.7268\n",
      "Epoch 18/25\n",
      "30/30 [==============================] - 15s 512ms/step - loss: 0.2263 - acc: 0.9077 - val_loss: 0.8907 - val_acc: 0.7113\n",
      "Epoch 19/25\n",
      "30/30 [==============================] - 17s 579ms/step - loss: 0.2491 - acc: 0.9056 - val_loss: 0.9222 - val_acc: 0.7113\n",
      "Epoch 20/25\n",
      "30/30 [==============================] - 19s 630ms/step - loss: 0.1920 - acc: 0.9223 - val_loss: 0.8266 - val_acc: 0.7260\n",
      "Epoch 21/25\n",
      "30/30 [==============================] - 17s 553ms/step - loss: 0.2155 - acc: 0.9167 - val_loss: 0.6976 - val_acc: 0.7500\n",
      "Epoch 22/25\n",
      "30/30 [==============================] - 16s 548ms/step - loss: 0.1914 - acc: 0.9300 - val_loss: 1.0650 - val_acc: 0.7062\n",
      "Epoch 23/25\n",
      "30/30 [==============================] - 17s 582ms/step - loss: 0.1674 - acc: 0.9323 - val_loss: 0.9068 - val_acc: 0.7088\n",
      "Epoch 24/25\n",
      "30/30 [==============================] - 18s 586ms/step - loss: 0.1519 - acc: 0.9436 - val_loss: 1.0422 - val_acc: 0.7423\n",
      "Epoch 25/25\n",
      "30/30 [==============================] - 17s 565ms/step - loss: 0.1463 - acc: 0.9458 - val_loss: 1.3136 - val_acc: 0.6624\n"
     ]
    },
    {
     "data": {
      "text/plain": [
       "<keras.callbacks.History at 0x256a47718c8>"
      ]
     },
     "execution_count": 44,
     "metadata": {},
     "output_type": "execute_result"
    }
   ],
   "source": [
    "model.fit_generator(x_train , steps_per_epoch =  30 , epochs = 25, validation_data = x_test, validation_steps =13)"
   ]
  },
  {
   "cell_type": "code",
   "execution_count": 45,
   "metadata": {},
   "outputs": [],
   "source": [
    "model.save(\"animals.h5\")"
   ]
  }
 ],
 "metadata": {
  "kernelspec": {
   "display_name": "Python 3",
   "language": "python",
   "name": "python3"
  },
  "language_info": {
   "codemirror_mode": {
    "name": "ipython",
    "version": 3
   },
   "file_extension": ".py",
   "mimetype": "text/x-python",
   "name": "python",
   "nbconvert_exporter": "python",
   "pygments_lexer": "ipython3",
   "version": "3.7.6"
  }
 },
 "nbformat": 4,
 "nbformat_minor": 4
}
